{
 "cells": [
  {
   "cell_type": "code",
   "execution_count": 1,
   "metadata": {},
   "outputs": [],
   "source": [
    "import pymongo\n",
    "import networkx as nx\n",
    "import pygraphviz\n",
    "from networkx.drawing.nx_agraph import graphviz_layout\n",
    "import matplotlib.pyplot as plt\n",
    "import matplotlib\n",
    "import plotly.graph_objects as go\n",
    "from bson.objectid import ObjectId\n",
    "import pprint\n",
    "import numpy as np"
   ]
  },
  {
   "cell_type": "markdown",
   "metadata": {},
   "source": [
    "## connect to remote host via shell\n",
    "mongo -u peng -p siemens 18.185.125.210/tKGR\n",
    "\n",
    "common commands:\n",
    "```\n",
    "use [db name] # my database named tKGR\n",
    "db.[collection mame].find() # show all documents in collection\n",
    "```"
   ]
  },
  {
   "cell_type": "markdown",
   "metadata": {},
   "source": [
    "## connect to database and create a collection"
   ]
  },
  {
   "cell_type": "code",
   "execution_count": null,
   "metadata": {},
   "outputs": [],
   "source": [
    "def create_mongo_connection(IP_ADDRESS='18.185.125.210', DATABASE='tKGR', USER='peng', PASSWORD='siemens'):\n",
    "    client = pymongo.MongoClient(\"mongodb://{}:{}@{}/{}\".format(USER, PASSWORD, IP_ADDRESS, DATABASE))\n",
    "    db = getattr(client, DATABASE)\n",
    "    print(\"Connection to {}/{} established\".format(IP_ADDRESS, DATABASE))\n",
    "    return db"
   ]
  },
  {
   "cell_type": "code",
   "execution_count": 5,
   "metadata": {},
   "outputs": [
    {
     "name": "stdout",
     "output_type": "stream",
     "text": [
      "Connection to 18.185.125.210/tKGR established\n"
     ]
    }
   ],
   "source": [
    "db = create_mongo_connection()\n",
    "col = db['test']"
   ]
  },
  {
   "cell_type": "markdown",
   "metadata": {},
   "source": [
    "## insert a doc into the collection"
   ]
  },
  {
   "cell_type": "code",
   "execution_count": 6,
   "metadata": {},
   "outputs": [
    {
     "data": {
      "text/plain": [
       "<pymongo.results.InsertOneResult at 0x12c37df50>"
      ]
     },
     "execution_count": 6,
     "metadata": {},
     "output_type": "execute_result"
    }
   ],
   "source": [
    "test_doc = {\"name\":'mike', 'study':{'bachelor':'TUM'}}\n",
    "col.insert_one(test_doc)"
   ]
  },
  {
   "cell_type": "markdown",
   "metadata": {},
   "source": [
    "## query a doc"
   ]
  },
  {
   "cell_type": "code",
   "execution_count": 14,
   "metadata": {},
   "outputs": [
    {
     "name": "stdout",
     "output_type": "stream",
     "text": [
      "{'_id': ObjectId('5f2e820d16870c9ba50f11c0'), 'name': 'mike', 'study': {'bachelor': 'TUM'}}\n"
     ]
    }
   ],
   "source": [
    "doc = col.find_one({'name':'mike'})\n",
    "print(doc)"
   ]
  },
  {
   "cell_type": "markdown",
   "metadata": {},
   "source": [
    "## insert a new subfield into an existing doc"
   ]
  },
  {
   "cell_type": "code",
   "execution_count": 19,
   "metadata": {},
   "outputs": [
    {
     "data": {
      "text/plain": [
       "<pymongo.results.UpdateResult at 0x12e5c9730>"
      ]
     },
     "execution_count": 19,
     "metadata": {},
     "output_type": "execute_result"
    }
   ],
   "source": [
    "col.update_one({\"_id\": doc['_id']}, {\"$set\": {\"study.master\": 'TUM'}})"
   ]
  },
  {
   "cell_type": "code",
   "execution_count": 20,
   "metadata": {},
   "outputs": [
    {
     "name": "stdout",
     "output_type": "stream",
     "text": [
      "{'_id': ObjectId('5f2e820d16870c9ba50f11c0'), 'name': 'mike', 'study': {'master': 'TUM', 'bachelor': 'TUM'}}\n"
     ]
    }
   ],
   "source": [
    "doc = col.find_one({'name':'mike'})\n",
    "print(doc)"
   ]
  },
  {
   "cell_type": "code",
   "execution_count": null,
   "metadata": {},
   "outputs": [],
   "source": []
  }
 ],
 "metadata": {
  "kernelspec": {
   "display_name": "tKGR",
   "language": "python",
   "name": "tkgr"
  },
  "language_info": {
   "codemirror_mode": {
    "name": "ipython",
    "version": 3
   },
   "file_extension": ".py",
   "mimetype": "text/x-python",
   "name": "python",
   "nbconvert_exporter": "python",
   "pygments_lexer": "ipython3",
   "version": "3.7.4"
  }
 },
 "nbformat": 4,
 "nbformat_minor": 4
}
